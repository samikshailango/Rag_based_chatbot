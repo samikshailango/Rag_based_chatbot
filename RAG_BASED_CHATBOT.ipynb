{
  "nbformat": 4,
  "nbformat_minor": 0,
  "metadata": {
    "colab": {
      "provenance": []
    },
    "kernelspec": {
      "name": "python3",
      "display_name": "Python 3"
    },
    "language_info": {
      "name": "python"
    }
  },
  "cells": [
    {
      "cell_type": "code",
      "source": [
        "!pip install swarmauri"
      ],
      "metadata": {
        "id": "5IT4aBPP_AzQ"
      },
      "execution_count": null,
      "outputs": []
    },
    {
      "cell_type": "code",
      "source": [
        "# Install necessary packages\n",
        "!pip install gradio --quiet\n",
        "\n",
        "from swarmauri.vector_stores.concrete.TfidfVectorStore import TfidfVectorStore\n",
        "from swarmauri.documents.concrete.Document import Document\n",
        "from swarmauri.conversations.concrete.MaxSystemContextConversation import MaxSystemContextConversation\n",
        "from swarmauri.messages.concrete.SystemMessage import SystemMessage\n",
        "from swarmauri.messages.concrete.HumanMessage import HumanMessage\n",
        "from swarmauri.llms.concrete.GroqModel import GroqModel as LLM\n",
        "from swarmauri.agents.concrete.RagAgent import RagAgent\n",
        "import gradio as gr\n",
        "import os\n",
        "\n",
        "# Initialize the vector store and add sample documents\n",
        "vector_store = TfidfVectorStore()\n",
        "documents = [\n",
        "    Document(content=\"Python is a versatile programming language.\"),\n",
        "    Document(content=\"Data science uses machine learning and statistics.\"),\n",
        "    Document(content=\"Python is popular in data science.\"),\n",
        "    Document(content=\"AI advancements are driven by machine learning.\"),\n",
        "]\n",
        "vector_store.add_documents(documents)\n",
        "\n",
        "# Initialize LLM\n",
        "os.environ['GROQ_API_KEY'] = 'YOUR_API_KEY'  #replace with api key\n",
        "\n",
        "API_KEY = os.getenv(\"GROQ_API_KEY\")\n",
        "if API_KEY:\n",
        "    llm = LLM(api_key=API_KEY)\n",
        "else:\n",
        "    raise ValueError(\"API Key not found!\")\n",
        "\n",
        "# Filter allowed models\n",
        "failing_llms = [\n",
        "    \"llama3-70b-8192\",\n",
        "    \"llama-3.2-90b-text-preview\",\n",
        "    \"mixtral-8x7b-32768\",\n",
        "    \"llava-v1.5-7b-4096-preview\",\n",
        "    \"llama-guard-3-8b\",\n",
        "]\n",
        "allowed_models = [model for model in llm.allowed_models if model not in failing_llms]\n",
        "llm.name = allowed_models[1]  # Select the first available allowed model\n",
        "\n",
        "# Initialize RAG Agent\n",
        "rag_system_context = \"You are an assistant that provides answers to the user. You utilize the details below:\"\n",
        "rag_conversation = MaxSystemContextConversation(system_context=SystemMessage(content=rag_system_context), max_size=4)\n",
        "rag_agent = RagAgent(\n",
        "    llm=llm,\n",
        "    conversation=rag_conversation,\n",
        "    system_context=rag_system_context,\n",
        "    vector_store=vector_store,\n",
        ")\n",
        "\n",
        "# Define a function for the chatbot\n",
        "def chatbot(query):\n",
        "    try:\n",
        "        response = rag_agent.exec(query)\n",
        "        return response\n",
        "    except Exception as e:\n",
        "        return f\"An error occurred: {str(e)}\"\n",
        "\n",
        "# Deploy with Gradio\n",
        "iface = gr.Interface(\n",
        "    fn=chatbot,\n",
        "    inputs=gr.Textbox(label=\"Ask a question\"),\n",
        "    outputs=gr.Textbox(label=\"Response\"),\n",
        "    title=\"RAG Chatbot\",\n",
        "    description=\"A chatbot powered by a RAG agent using Swarmauri.\",\n",
        ")\n",
        "\n",
        "# Launch the Gradio app\n",
        "iface.launch()\n"
      ],
      "metadata": {
        "colab": {
          "base_uri": "https://localhost:8080/",
          "height": 650
        },
        "id": "00gTLus2CXYp",
        "outputId": "9563d7a9-7680-4e7d-d5c1-6f2d4499a831"
      },
      "execution_count": 13,
      "outputs": [
        {
          "output_type": "stream",
          "name": "stdout",
          "text": [
            "Running Gradio in a Colab notebook requires sharing enabled. Automatically setting `share=True` (you can turn this off by setting `share=False` in `launch()` explicitly).\n",
            "\n",
            "Colab notebook detected. To show errors in colab notebook, set debug=True in launch()\n",
            "* Running on public URL: https://2a4840c26547b1e7c9.gradio.live\n",
            "\n",
            "This share link expires in 72 hours. For free permanent hosting and GPU upgrades, run `gradio deploy` from the terminal in the working directory to deploy to Hugging Face Spaces (https://huggingface.co/spaces)\n"
          ]
        },
        {
          "output_type": "display_data",
          "data": {
            "text/plain": [
              "<IPython.core.display.HTML object>"
            ],
            "text/html": [
              "<div><iframe src=\"https://2a4840c26547b1e7c9.gradio.live\" width=\"100%\" height=\"500\" allow=\"autoplay; camera; microphone; clipboard-read; clipboard-write;\" frameborder=\"0\" allowfullscreen></iframe></div>"
            ]
          },
          "metadata": {}
        },
        {
          "output_type": "execute_result",
          "data": {
            "text/plain": []
          },
          "metadata": {},
          "execution_count": 13
        }
      ]
    }
  ]
}